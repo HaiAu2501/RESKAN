{
 "cells": [
  {
   "cell_type": "code",
   "execution_count": null,
   "id": "d6e01074-3122-4b58-b446-d59d346e57e6",
   "metadata": {},
   "outputs": [],
   "source": [
    "%pip install -r requirements.txt"
   ]
  },
  {
   "cell_type": "code",
   "execution_count": null,
   "id": "6911603f-6288-4eda-9953-ac5ac0343eb2",
   "metadata": {},
   "outputs": [],
   "source": [
    "import gdown\n",
    "gdown.download(id=\"1I38eCJsjvsynFtB2diDHqRJxqwqsNgCQ\")"
   ]
  },
  {
   "cell_type": "code",
   "execution_count": null,
   "id": "83d02893-c84c-4c22-b57d-465ca8b46298",
   "metadata": {},
   "outputs": [],
   "source": [
    "import shutil\n",
    "shutil.unpack_archive(\"RESIDE-6K.zip\")"
   ]
  },
  {
   "cell_type": "code",
   "execution_count": null,
   "id": "0695dba2-927c-404a-b104-24d5156ccd8c",
   "metadata": {},
   "outputs": [],
   "source": [
    "import os\n",
    "import warnings\n",
    "warnings.filterwarnings(\"ignore\", category=UserWarning)\n",
    "os.environ[\"WANDB_API_KEY\"] = \"c4ef1c3a84ce36f7906d0aa9f765fbee9cdabd8f\"\n",
    "os.environ[\"WANDB_NOTEBOOK_NAME\"] = \"RESKAN\""
   ]
  },
  {
   "cell_type": "code",
   "execution_count": null,
   "id": "f9e6998e-77d8-4d53-965a-66917d35db5b",
   "metadata": {},
   "outputs": [],
   "source": [
    "%run main.py \\\n",
    "     model=our_reskan \\\n",
    "     dataset=reside_6k \\\n",
    "     dataset.root=RESIDE-6K \\\n",
    "     dataset.lq_dirname=hazy \\\n",
    "     dataset.gt_dirname=GT \\\n",
    "     dataset.patch_size=256 \\\n",
    "     loader.val_ratio=0.1 \\\n",
    "     loader.batch_size=2 \\\n",
    "     loader.num_workers=4 \\\n",
    "     trainer.max_epochs=100 \\\n",
    "     trainer.devices=1"
   ]
  }
 ],
 "metadata": {
  "kernelspec": {
   "display_name": ".env",
   "language": "python",
   "name": "python3"
  },
  "language_info": {
   "codemirror_mode": {
    "name": "ipython",
    "version": 3
   },
   "file_extension": ".py",
   "mimetype": "text/x-python",
   "name": "python",
   "nbconvert_exporter": "python",
   "pygments_lexer": "ipython3",
   "version": "3.12.0"
  }
 },
 "nbformat": 4,
 "nbformat_minor": 5
}
